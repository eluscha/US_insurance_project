{
 "cells": [
  {
   "cell_type": "markdown",
   "metadata": {},
   "source": [
    "# U.S. Medical Insurance Costs"
   ]
  },
  {
   "cell_type": "markdown",
   "metadata": {},
   "source": [
    "# Loading data"
   ]
  },
  {
   "cell_type": "code",
   "execution_count": 1,
   "metadata": {},
   "outputs": [
    {
     "name": "stdout",
     "output_type": "stream",
     "text": [
      "[19, 18, 28, 33, 32] ['female', 'male', 'male', 'male', 'male'] [27.9, 33.77, 33.0, 22.705, 28.88] [0, 1, 3, 0, 0]\n",
      "['yes', 'no', 'no', 'no', 'no'] ['southwest', 'southeast', 'southeast', 'northwest', 'northwest'] [16884.924, 1725.5523, 4449.462, 21984.47061, 3866.8552]\n"
     ]
    }
   ],
   "source": [
    "import csv\n",
    "\n",
    "age = []\n",
    "sex = []\n",
    "bmi = []\n",
    "children = []\n",
    "smoker = []\n",
    "region = []\n",
    "charges = []\n",
    "\n",
    "with open(\"insurance.csv\") as data:\n",
    "  data_dict = csv.DictReader(data)\n",
    "  for row in data_dict:\n",
    "    age.append(int(row[\"age\"]))\n",
    "    sex.append(row[\"sex\"])\n",
    "    bmi.append(float(row[\"bmi\"]))\n",
    "    children.append(int(row[\"children\"]))\n",
    "    smoker.append(row[\"smoker\"])\n",
    "    region.append(row[\"region\"])\n",
    "    charges.append(float(row[\"charges\"]))\n",
    "    \n",
    "print(age[0:5], sex[0:5], bmi[0:5], children[0:5])\n",
    "print(smoker[0:5], region[0:5], charges[0:5])"
   ]
  },
  {
   "cell_type": "code",
   "execution_count": 2,
   "metadata": {},
   "outputs": [
    {
     "name": "stdout",
     "output_type": "stream",
     "text": [
      "[0, 1, 1, 1, 1]\n",
      "[1, 0, 0, 0, 0]\n"
     ]
    }
   ],
   "source": [
    "#representing sex as 0 (female) or 1 (male)\n",
    "sex_num = [0 if person == 'female' else 1 if person == 'male' else None for person in sex]\n",
    "\n",
    "print(sex_num[0:5])\n",
    "\n",
    "#representing smoking status as 0 (not a smoker) or 1 (smoker)\n",
    "smoker_num = [0 if ans == 'no' else 1 if ans == 'yes' else None for ans in smoker]\n",
    "\n",
    "print(smoker_num[0:5])"
   ]
  },
  {
   "cell_type": "code",
   "execution_count": 3,
   "metadata": {},
   "outputs": [
    {
     "name": "stdout",
     "output_type": "stream",
     "text": [
      "[{'id': 1, 'age': 19, 'sex': 0, 'bmi': 27.9, 'children': 0, 'smoker': 1, 'region': 'southwest', 'charges': 16884.924}, {'id': 2, 'age': 18, 'sex': 1, 'bmi': 33.77, 'children': 1, 'smoker': 0, 'region': 'southeast', 'charges': 1725.5523}]\n"
     ]
    }
   ],
   "source": [
    "#list with dictionaries for every record\n",
    "datapoints = []\n",
    "for i in range(len(age)):\n",
    "    record = {\n",
    "        \"id\" : i+1,\n",
    "        \"age\" : age[i],\n",
    "        \"sex\" : sex_num[i],\n",
    "        \"bmi\" : bmi[i], \n",
    "        \"children\" : children[i],\n",
    "        \"smoker\" : smoker_num[i],\n",
    "        \"region\" : region[i],\n",
    "        \"charges\" : charges[i]\n",
    "    }\n",
    "    datapoints.append(record)\n",
    "\n",
    "print(datapoints[0:2])"
   ]
  },
  {
   "cell_type": "markdown",
   "metadata": {},
   "source": [
    "# Classes and helper functions\n",
    "## Record Class\n",
    "This class will be used to represent all info about a person (a record) in an object."
   ]
  },
  {
   "cell_type": "code",
   "execution_count": 4,
   "metadata": {},
   "outputs": [],
   "source": [
    "class Record():\n",
    "    \n",
    "    def __init__(self, age, sex, bmi, children, smoker, region, charges):\n",
    "        self.age = age\n",
    "        self.sex = sex #numeric format\n",
    "        self.bmi = bmi\n",
    "        self.children = children\n",
    "        self.smoker = smoker #numeric format\n",
    "        self.region = region\n",
    "        self.charges = charges  \n"
   ]
  },
  {
   "cell_type": "markdown",
   "metadata": {},
   "source": [
    "## Population Class\n",
    "This class will represent populations (groups) of people as an object"
   ]
  },
  {
   "cell_type": "code",
   "execution_count": 5,
   "metadata": {},
   "outputs": [],
   "source": [
    "class Group():\n",
    "    \n",
    "    def __init__(self, name):\n",
    "        self.size = 0\n",
    "        self.group = []\n",
    "        self.name = name\n",
    "        \n",
    "    def __repr__(self):\n",
    "        return f\"group '{self.name}'\"\n",
    "    \n",
    "    #adds a record to a group\n",
    "    def add_person(self, record):\n",
    "        self.size += 1\n",
    "        self.group.append(record)\n",
    "        \n",
    "    def average_age(self):\n",
    "        total = 0\n",
    "        for record in self.group:\n",
    "            total += record.age\n",
    "        return total / self.size\n",
    "    \n",
    "    def fraction_of_men(self, roundto = 3):\n",
    "        total = 0\n",
    "        for record in self.group:\n",
    "            total += record.sex\n",
    "        return round(total / self.size, roundto)\n",
    "    \n",
    "    def fraction_of_women(self, roundto = 3):\n",
    "        result = 1 - self.fraction_of_men(roundto)\n",
    "        return round(result, roundto)\n",
    "    \n",
    "    def average_bmi(self, roundto = 3):\n",
    "        total = 0\n",
    "        for record in self.group:\n",
    "            total += record.bmi\n",
    "        return round(total / self.size, roundto) \n",
    "    \n",
    "    def average_children(self):\n",
    "        total = 0\n",
    "        for record in self.group:\n",
    "            total += record.children\n",
    "        return total / self.size\n",
    "    \n",
    "    def fraction_of_smokers(self, roundto = 3):\n",
    "        total = 0\n",
    "        for record in self.group:\n",
    "            total += record.smoker\n",
    "        return round(total / self.size, roundto)\n",
    "    \n",
    "    def fraction_of_nonsmokers(self, roundto = 3):\n",
    "        result = 1 - self.fraction_of_smokers(roundto)\n",
    "        return round(result, roundto)\n",
    "    \n",
    "    def fraction_per_region(self, one_region, roundto = 3):\n",
    "        total = 0\n",
    "        for record in self.group:\n",
    "            if record.region == one_region:\n",
    "                total += 1\n",
    "        return round(total / self.size, roundto)\n",
    "    \n",
    "    def average_charges(self, roundto = 4):\n",
    "        total = 0\n",
    "        for record in self.group:\n",
    "            total += record.charges\n",
    "        return round(total / self.size, roundto) "
   ]
  },
  {
   "cell_type": "markdown",
   "metadata": {},
   "source": [
    "## Function compare_groups\n",
    "This function allows to compare a list of group averages for different variables (or parameters)."
   ]
  },
  {
   "cell_type": "markdown",
   "metadata": {},
   "source": [
    "It compares groups with regard to 1 parameter, which could be:\n",
    "1. \"age\" - prints average ages (for a list of groups),\n",
    "2. \"sex\" - prints fraction of men, \n",
    "3. \"bmi\" - prints average bmi,\n",
    "4. \"children\" - prints average amount of children per person, \n",
    "5. \"smoker\" - prints fraction of smokers,\n",
    "6. region_name from the global variable region - prints fraction of people living in \"region_name\",\n",
    "7. \"smoker\" - prints fraction of smokers,\n",
    "6. \"charges\" - prints average charges."
   ]
  },
  {
   "cell_type": "code",
   "execution_count": 24,
   "metadata": {},
   "outputs": [],
   "source": [
    "def compare_groups(group_list,parameter):\n",
    "    \n",
    "    global region\n",
    "    \n",
    "    result = []\n",
    "    value = None\n",
    "\n",
    "    for group in group_list:\n",
    "        \n",
    "        if parameter == \"age\":\n",
    "            value = group.average_age()\n",
    "            print(f\"{group} has average age {value}.\")\n",
    "        \n",
    "        elif parameter == \"sex\":\n",
    "            value = group.fraction_of_men() * 100\n",
    "            print(f\"{group} has {value}% of men.\")\n",
    "        \n",
    "        elif parameter == \"bmi\":\n",
    "            value = group.average_bmi()\n",
    "            print(f\"{group} has average BMI of {value}.\")\n",
    "        \n",
    "        elif parameter == \"children\":\n",
    "            value = group.average_children()\n",
    "            if float(value) == 1.0:\n",
    "                ending = \"child\"\n",
    "            else:\n",
    "                ending = \"children\"\n",
    "            print(f\"The {group} has on average {value} {ending}.\")\n",
    "        \n",
    "        elif parameter == \"smoker\":\n",
    "            value = group.fraction_of_smokers() * 100\n",
    "            print(f\"{group} has {value}% of smokers.\")\n",
    "    \n",
    "        elif parameter in set(region):\n",
    "            one_region = parameter\n",
    "            value = group.fraction_per_region(one_region) * 100\n",
    "            print(f\"The {group} has {value}% of people in {one_region} region.\")\n",
    "        \n",
    "        elif parameter == \"charges\":\n",
    "            value = group.average_charges()\n",
    "            print(f\"{group} has average charges of {value}.\")\n",
    "            \n",
    "        result.append((group, value))\n",
    "       \n",
    "    result.sort(key=lambda y: y[1])\n",
    "    return result"
   ]
  },
  {
   "cell_type": "code",
   "execution_count": 25,
   "metadata": {},
   "outputs": [
    {
     "name": "stdout",
     "output_type": "stream",
     "text": [
      "0.4\n"
     ]
    },
    {
     "data": {
      "text/plain": [
       "['southwest',\n",
       " 'southeast',\n",
       " 'southeast',\n",
       " 'northwest',\n",
       " 'northwest',\n",
       " 'southeast',\n",
       " 'southeast',\n",
       " 'northwest',\n",
       " 'northeast',\n",
       " 'northwest']"
      ]
     },
     "execution_count": 25,
     "metadata": {},
     "output_type": "execute_result"
    }
   ],
   "source": [
    "#testing creation of Groups and group methods\n",
    "\n",
    "group1 = Group(\"first ten\")\n",
    "\n",
    "for datapoint in datapoints[0:10]:\n",
    "    record = Record(\n",
    "        datapoint[\"age\"],\n",
    "        datapoint[\"sex\"],\n",
    "        datapoint[\"bmi\"],\n",
    "        datapoint[\"children\"],\n",
    "        datapoint[\"smoker\"],\n",
    "        datapoint[\"region\"],\n",
    "        datapoint[\"charges\"])\n",
    "    group1.add_person(record)\n",
    "\n",
    "group2 = Group(\"11-20\")    \n",
    "    \n",
    "for datapoint in datapoints[10:20]:\n",
    "    record = Record(\n",
    "        datapoint[\"age\"],\n",
    "        datapoint[\"sex\"],\n",
    "        datapoint[\"bmi\"],\n",
    "        datapoint[\"children\"],\n",
    "        datapoint[\"smoker\"],\n",
    "        datapoint[\"region\"],\n",
    "        datapoint[\"charges\"])\n",
    "    group2.add_person(record)\n",
    "    \n",
    "#tested all methods and they worked as expected\n",
    "#example of a test\n",
    "print(group1.fraction_per_region('southeast'))\n",
    "region[0:10]"
   ]
  },
  {
   "cell_type": "code",
   "execution_count": 28,
   "metadata": {},
   "outputs": [
    {
     "name": "stdout",
     "output_type": "stream",
     "text": [
      "The group 'first ten' has on average 1.0 child.\n",
      "The group '11-20' has on average 0.2 children.\n",
      "[(group '11-20', 0.2), (group 'first ten', 1.0)]\n",
      "[0, 1, 3, 0, 0, 0, 1, 3, 2, 0]\n",
      "[0, 0, 0, 0, 0, 1, 1, 0, 0, 0] \n",
      "\n",
      "The group 'first ten' has 40.0% of people in southeast region.\n",
      "The group '11-20' has 30.0% of people in southeast region.\n",
      "[(group '11-20', 30.0), (group 'first ten', 40.0)]\n",
      "['southwest', 'southeast', 'southeast', 'northwest', 'northwest', 'southeast', 'southeast', 'northwest', 'northeast', 'northwest']\n",
      "['northeast', 'southeast', 'southwest', 'southeast', 'southeast', 'southwest', 'northeast', 'northeast', 'southwest', 'southwest'] \n",
      "\n",
      "group 'first ten' has 50.0% of men.\n",
      "group '11-20' has 70.0% of men.\n",
      "[(group 'first ten', 50.0), (group '11-20', 70.0)]\n",
      "['female', 'male', 'male', 'male', 'male', 'female', 'female', 'female', 'male', 'female']\n",
      "['male', 'female', 'male', 'female', 'male', 'male', 'female', 'male', 'male', 'male'] \n",
      "\n",
      "group 'first ten' has average charges of 10351.9529.\n",
      "group '11-20' has average charges of 14552.8961.\n",
      "[(group 'first ten', 10351.9529), (group '11-20', 14552.8961)]\n",
      "[16884.924, 1725.5523, 4449.462, 21984.47061, 3866.8552, 3756.6216, 8240.5896, 7281.5056, 6406.4107, 28923.13692]\n",
      "[2721.3208, 27808.7251, 1826.843, 11090.7178, 39611.7577, 1837.237, 10797.3362, 2395.17155, 10602.385, 36837.467]\n"
     ]
    }
   ],
   "source": [
    "#testing the comparison function showed expected behaviour, for example:\n",
    "\n",
    "print(compare_groups([group1,group2],\"children\")) #function prints a sentence per group and returns sorted list\n",
    "print(children[0:10])\n",
    "print(children[10:20], \"\\n\")\n",
    "\n",
    "print(compare_groups([group1,group2],\"southeast\"))\n",
    "print(region[0:10])\n",
    "print(region[10:20],  \"\\n\")\n",
    "\n",
    "print(compare_groups([group1,group2],\"sex\"))\n",
    "print(sex[0:10])\n",
    "print(sex[10:20],  \"\\n\")\n",
    "\n",
    "print(compare_groups([group1,group2],\"charges\"))\n",
    "print(charges[0:10])\n",
    "print(charges[10:20])"
   ]
  },
  {
   "cell_type": "markdown",
   "metadata": {},
   "source": [
    "# Exploring the data"
   ]
  },
  {
   "cell_type": "code",
   "execution_count": null,
   "metadata": {},
   "outputs": [],
   "source": []
  }
 ],
 "metadata": {
  "kernelspec": {
   "display_name": "Python 3",
   "language": "python",
   "name": "python3"
  },
  "language_info": {
   "codemirror_mode": {
    "name": "ipython",
    "version": 3
   },
   "file_extension": ".py",
   "mimetype": "text/x-python",
   "name": "python",
   "nbconvert_exporter": "python",
   "pygments_lexer": "ipython3",
   "version": "3.7.4"
  }
 },
 "nbformat": 4,
 "nbformat_minor": 4
}
