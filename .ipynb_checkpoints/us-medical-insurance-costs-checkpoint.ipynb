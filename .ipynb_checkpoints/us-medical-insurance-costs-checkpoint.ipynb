{
 "cells": [
  {
   "cell_type": "markdown",
   "metadata": {},
   "source": [
    "# U.S. Medical Insurance Costs"
   ]
  },
  {
   "cell_type": "markdown",
   "metadata": {},
   "source": [
    "# Loading data"
   ]
  },
  {
   "cell_type": "code",
   "execution_count": 3,
   "metadata": {},
   "outputs": [
    {
     "name": "stdout",
     "output_type": "stream",
     "text": [
      "[19, 18, 28, 33, 32] ['female', 'male', 'male', 'male', 'male'] [27.9, 33.77, 33.0, 22.705, 28.88] [0, 1, 3, 0, 0]\n",
      "['yes', 'no', 'no', 'no', 'no'] ['southwest', 'southeast', 'southeast', 'northwest', 'northwest'] [16884.924, 1725.5523, 4449.462, 21984.47061, 3866.8552]\n"
     ]
    }
   ],
   "source": [
    "import csv\n",
    "\n",
    "age = []\n",
    "sex = []\n",
    "bmi = []\n",
    "children = []\n",
    "smoker = []\n",
    "region = []\n",
    "charges = []\n",
    "\n",
    "with open(\"insurance.csv\") as data:\n",
    "  data_dict = csv.DictReader(data)\n",
    "  for row in data_dict:\n",
    "    age.append(int(row[\"age\"]))\n",
    "    sex.append(row[\"sex\"])\n",
    "    bmi.append(float(row[\"bmi\"]))\n",
    "    children.append(int(row[\"children\"]))\n",
    "    smoker.append(row[\"smoker\"])\n",
    "    region.append(row[\"region\"])\n",
    "    charges.append(float(row[\"charges\"]))\n",
    "    datapoints.append({\n",
    "        \"id\" : len(datapoints) + 1,\n",
    "        \"age\" : int(row[\"age\"]),\n",
    "        \n",
    "    })\n",
    "    \n",
    "print(age[0:5], sex[0:5], bmi[0:5], children[0:5])\n",
    "print(smoker[0:5], region[0:5], charges[0:5])\n"
   ]
  },
  {
   "cell_type": "code",
   "execution_count": 6,
   "metadata": {},
   "outputs": [
    {
     "name": "stdout",
     "output_type": "stream",
     "text": [
      "[0, 1, 1, 1, 1]\n",
      "[1, 0, 0, 0, 0]\n"
     ]
    }
   ],
   "source": [
    "#representing sex as 0 (female) or 1 (male)\n",
    "sex_num = [0 if person == 'female' else 1 if person == 'male' else None for person in sex]\n",
    "\n",
    "print(sex_num[0:5])\n",
    "\n",
    "#representing smoking status as 0 (not a smoker) or 1 (smoker)\n",
    "smoker_num = [0 if ans == 'no' else 1 if ans == 'yes' else None for ans in smoker]\n",
    "\n",
    "print(smoker_num[0:5])"
   ]
  },
  {
   "cell_type": "code",
   "execution_count": 7,
   "metadata": {},
   "outputs": [
    {
     "name": "stdout",
     "output_type": "stream",
     "text": [
      "[{'id': 1, 'age': 19, 'sex': 0, 'bmi': 27.9, 'children': 0, 'smoker': 1, 'region': 'southwest', 'charges': 16884.924}, {'id': 2, 'age': 18, 'sex': 1, 'bmi': 33.77, 'children': 1, 'smoker': 0, 'region': 'southeast', 'charges': 1725.5523}]\n"
     ]
    }
   ],
   "source": [
    "#list with dictionaries for every record\n",
    "datapoints = []\n",
    "for i in range(len(age)):\n",
    "    record = {\n",
    "        \"id\" : i+1,\n",
    "        \"age\" : age[i],\n",
    "        \"sex\" : sex_num[i],\n",
    "        \"bmi\" : bmi[i], \n",
    "        \"children\" : children[i],\n",
    "        \"smoker\" : smoker_num[i],\n",
    "        \"region\" : region[i],\n",
    "        \"charges\" : charges[i]\n",
    "    }\n",
    "    datapoints.append(record)\n",
    "\n",
    "print(datapoints[0:2])"
   ]
  },
  {
   "cell_type": "code",
   "execution_count": null,
   "metadata": {},
   "outputs": [],
   "source": []
  }
 ],
 "metadata": {
  "kernelspec": {
   "display_name": "Python 3",
   "language": "python",
   "name": "python3"
  },
  "language_info": {
   "codemirror_mode": {
    "name": "ipython",
    "version": 3
   },
   "file_extension": ".py",
   "mimetype": "text/x-python",
   "name": "python",
   "nbconvert_exporter": "python",
   "pygments_lexer": "ipython3",
   "version": "3.7.4"
  }
 },
 "nbformat": 4,
 "nbformat_minor": 4
}
